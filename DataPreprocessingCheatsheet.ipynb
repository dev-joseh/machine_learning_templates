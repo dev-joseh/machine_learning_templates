{
 "cells": [
  {
   "cell_type": "markdown",
   "id": "d349c514-1e8b-4628-b772-128076c33313",
   "metadata": {},
   "source": [
    "# Part 2: Data Preprocessing Cheatsheet\n",
    "\n",
    "**Remove or fill any missing data.\\\n",
    "Remove unnecessary or repetitive features.\\\n",
    "Convert categorical string features to dummy variables.**"
   ]
  },
  {
   "cell_type": "markdown",
   "id": "e7fb7720-0987-4d82-b88a-b38aecf82f29",
   "metadata": {},
   "source": [
    "### Missing data"
   ]
  },
  {
   "cell_type": "markdown",
   "id": "a6880f31-d625-4cd3-8336-c2f3eb540fd4",
   "metadata": {},
   "source": [
    "**First i explore the missing data columns to decide which i should keep, discard, or fill in.**"
   ]
  },
  {
   "cell_type": "code",
   "execution_count": null,
   "id": "4f0fc5d3-1804-48af-aad7-52ae2878cb16",
   "metadata": {},
   "outputs": [],
   "source": [
    "# First find the length of the dataframe\n",
    "len(df)\n",
    "\n",
    "# Then find missing data quantities\n",
    "missin_data = df.isna().sum() \n",
    "missin_data_percentage = missin_data*100 / len(df)\n",
    "\n",
    "# Some columns have too many unique values to try to convert to dummy values:\n",
    "df[column].unique().size # Find out how many different values a column has\n",
    "df[column].value_counts() # Find out each value count\n",
    "\n",
    "# Simple function to check the correlation between data\n",
    "def check_corr(dataset,x):\n",
    "    print(f'Correlation with the {x} column:\\n')\n",
    "    print(dataset.corr(numeric_only=True)[x].sort_values().drop(x))"
   ]
  },
  {
   "cell_type": "markdown",
   "id": "62ddebea-4321-446f-9e6a-3e21835322e8",
   "metadata": {},
   "source": [
    "**How to drop missing values:**"
   ]
  },
  {
   "cell_type": "markdown",
   "id": "a7102982-0c36-41c4-9c31-97c61d65816a",
   "metadata": {},
   "source": [
    "Replacing every NaN occurence on a column for the same row value of another column.\n",
    "\n",
    "*This is useful when both columns have high correlation.*"
   ]
  },
  {
   "cell_type": "code",
   "execution_count": null,
   "id": "f9b08169-8950-43a4-bda6-a4c9f34fcde2",
   "metadata": {},
   "outputs": [],
   "source": [
    "def replace_one_value(replaced_val,new_val):\n",
    "    if pd.isna(replaced_val):\n",
    "        return new_val\n",
    "    return replaced_val\n",
    "# Calls the replacing function for every row with apply.\n",
    "df['replaced_val'] = df.apply(lambda x: replace_mort_acc(x['replaced_val'], x['new_val']), axis=1)\n"
   ]
  },
  {
   "cell_type": "markdown",
   "id": "5f14d15f-4bdf-48fd-aaf1-2334bd3ffc85",
   "metadata": {},
   "source": [
    "Other useful functions"
   ]
  },
  {
   "cell_type": "code",
   "execution_count": null,
   "id": "9b7b6d58-fcc0-4dea-ba80-2f1c1d30d9e9",
   "metadata": {},
   "outputs": [],
   "source": [
    "# Drops a column\n",
    "df.drop('Column to drop',inplace=True,axis=1)\n",
    "\n",
    "# Drops every single row (axis=0) or column (axis=1) in which contains NaN values.\n",
    "df.dropna(inplace=True,axis=0)\n",
    "df.dropna(inplace=True,axis=1)"
   ]
  },
  {
   "cell_type": "markdown",
   "id": "da7d8451-f270-4b6d-b9e4-1fc750153687",
   "metadata": {},
   "source": [
    "## Categorical Variables and Dummy Variables\n",
    "\n",
    "After dealing with missing values, it might be necessary to process string values due to their categorical columns."
   ]
  },
  {
   "cell_type": "code",
   "execution_count": null,
   "id": "ea8aabe0-77b7-4a46-be15-e5e79ebaee52",
   "metadata": {},
   "outputs": [],
   "source": [
    "# Finding every non-numeric column\n",
    "df.select_dtypes(['object']).columns"
   ]
  },
  {
   "cell_type": "code",
   "execution_count": null,
   "id": "f781d205-5d43-4645-8aaa-dfa308f3389b",
   "metadata": {},
   "outputs": [],
   "source": [
    "# Easy converting technique when string has 'numeral'\n",
    "df[string_col] = df.apply(lambda x : int(x[string_col][-4:]),axis=1) # In this example, the numeral is in the last 4 digits."
   ]
  },
  {
   "cell_type": "code",
   "execution_count": null,
   "id": "5fbc3949-896c-4367-8e32-caf895ce1f2d",
   "metadata": {},
   "outputs": [],
   "source": [
    "# Map every string value with its numeric value\n",
    "new_dict = {} \n",
    "def to_int(old_val,new_val_dict):\n",
    "    return new_val_dict[old_val]\n",
    "    \n",
    "df['string_col'] = df.apply(lambda x : to_int(x['string_col'],new_dict),axis=1)"
   ]
  },
  {
   "cell_type": "code",
   "execution_count": null,
   "id": "e4220b4b-deb4-4317-ab73-8ccefbfc7a57",
   "metadata": {},
   "outputs": [],
   "source": [
    "# Converting categorical column to dummies and merging with the original dataframe\n",
    "def str_to_dum(dataframe,y):\n",
    "    \"\"\"\n",
    "    Transforms y string attributes into categorical columns \n",
    "    (EX: if y has 3 possible values, creates 3 new columns for each\n",
    "    with value 1 if given instance has that attribute)\n",
    "    :dataframe: pandas.Dataframe\n",
    "    :y: string or array of strings - which columns will be replaced\n",
    "    :return: the dataframe transformed\n",
    "    \"\"\"\n",
    "    dummies = pd.get_dummies(df[y], dtype='int32',drop_first=True)\n",
    "    merged = pd.concat([df,dummies],axis='columns')\n",
    "    merged.drop(y,axis='columns',inplace=True)\n",
    "    \n",
    "    return merged"
   ]
  },
  {
   "cell_type": "markdown",
   "id": "d6ba9bd8-95ff-4709-9e9c-e29182902ab3",
   "metadata": {},
   "source": [
    "[By José H](https://github.com/dev-joseh)"
   ]
  }
 ],
 "metadata": {
  "kernelspec": {
   "display_name": "Python 3 (ipykernel)",
   "language": "python",
   "name": "python3"
  },
  "language_info": {
   "codemirror_mode": {
    "name": "ipython",
    "version": 3
   },
   "file_extension": ".py",
   "mimetype": "text/x-python",
   "name": "python",
   "nbconvert_exporter": "python",
   "pygments_lexer": "ipython3",
   "version": "3.11.7"
  }
 },
 "nbformat": 4,
 "nbformat_minor": 5
}
