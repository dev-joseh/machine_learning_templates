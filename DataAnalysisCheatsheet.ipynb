{
 "cells": [
  {
   "cell_type": "markdown",
   "id": "40de0d7d-78b1-46a9-ace4-d20c96df9469",
   "metadata": {},
   "source": [
    "I've made these notebooks for myself while studying Machine Learning.\n",
    "\n",
    "While most of the times i will not be using 100% exactly how these functions are defined here. These are good starting templates and reminders on how things work.\n",
    "\n",
    "I hope this can be useful for you too!\n",
    "\n",
    "[- José H](https://github.com/dev-joseh)\n",
    "\n",
    "# Part 1: Exploratory Data Analysis CheatSheet\n",
    "\n",
    "**Get an understanding for which variables are important, view summary statistics, and visualize the data.**"
   ]
  },
  {
   "cell_type": "markdown",
   "id": "016225db-e0a9-4b10-8511-418123d5cc43",
   "metadata": {},
   "source": [
    "### Import libraries and dataset"
   ]
  },
  {
   "cell_type": "code",
   "execution_count": null,
   "id": "2842f627-e162-41a6-94f6-6037bc4759a4",
   "metadata": {},
   "outputs": [],
   "source": [
    "# Common libraries\n",
    "import pandas as pd\n",
    "import numpy as np\n",
    "import seaborn as sns\n",
    "\n",
    "# Some seaborn functions have FutureWarnings that can be suppressed\n",
    "from warnings import simplefilter\n",
    "simplefilter(action='ignore', category=FutureWarning)\n",
    "\n",
    "# Importing and saving Datasets\n",
    "# CSV\n",
    "df = pd.read_csv(\"dataframe.csv\", , header=None, nrows=5)\n",
    "df.to_csv(\"dataframe.csv\")\n",
    "\n",
    "# Excel\n",
    "pd.read_excel(\"dataframe.xlsx\")\n",
    "df.to_excel(\"dataframe.xlsx\", sheet_name=\"Sheet1\")"
   ]
  },
  {
   "cell_type": "markdown",
   "id": "aaea52a6-0212-4331-818a-c35302b57345",
   "metadata": {},
   "source": [
    "### Basic information"
   ]
  },
  {
   "cell_type": "code",
   "execution_count": null,
   "id": "a3cec948-e492-45b6-8cfd-d59f40c9eb55",
   "metadata": {},
   "outputs": [],
   "source": [
    "df.info() # Info on DataFrame (data types, quantity)\n",
    "df.head(n) # Returns the first n rows\n",
    "df.shape # (rows,columns)\n",
    "df.index # Describe index\n",
    "df.columns # Describe DataFrame columns\n",
    "df.count() # Number of non-NA value\n",
    "df.describe() # Summary statistics\n",
    "df.corr(numeric_only=True) # Returns a correlation table between each attribute"
   ]
  },
  {
   "cell_type": "markdown",
   "id": "4604bb84-3b46-4888-b90d-04c501f0dea2",
   "metadata": {},
   "source": [
    "### GroupBy function and methods\n",
    "\n",
    "This function is very important for Data Analysis.\n",
    "\n",
    "It is used to compare column values by different angles (or classes), grouping them by different attributes."
   ]
  },
  {
   "cell_type": "code",
   "execution_count": null,
   "id": "62153769-a531-4880-95eb-a2c427ce40b0",
   "metadata": {},
   "outputs": [],
   "source": [
    "groupBy = df.groupby('column_to_be_grouped_by')"
   ]
  },
  {
   "cell_type": "code",
   "execution_count": null,
   "id": "e8e8fee8-0e92-426a-9dcb-05d20b61e224",
   "metadata": {},
   "outputs": [],
   "source": [
    "groupBy['column_to_be_checked']\n",
    "groupBy.describe() # All comparisons at the same time\n",
    "groupBy.sum()\n",
    "groupBy.mean(numeric_only=True)\n",
    "groupBy.count()"
   ]
  },
  {
   "cell_type": "markdown",
   "id": "ce2fdc0d-0ecb-44b9-9b6a-18c81e9550bc",
   "metadata": {},
   "source": [
    "### Common plotting functions for EDA with pyplot"
   ]
  },
  {
   "cell_type": "code",
   "execution_count": null,
   "id": "5aa0e8b8-dd67-4f7a-b0ab-5dd9af33cc41",
   "metadata": {},
   "outputs": [],
   "source": [
    "import matplotlib.pyplot as plt\n",
    "%matplotlib inline"
   ]
  },
  {
   "cell_type": "code",
   "execution_count": null,
   "id": "e0c9d9ce-cfb5-43d8-8c27-1365a2244ab8",
   "metadata": {},
   "outputs": [],
   "source": [
    "def plot_hist(data,bin_no=30):\n",
    "    \"\"\"\n",
    "    Plots a histogram for the given dataframe.\n",
    "    :dataframe: pandas.Dataframe\n",
    "    :bin_no: int - Defines bin amount\n",
    "    \"\"\"\n",
    "    fig, ax = plt.subplots()\n",
    "    \n",
    "    ax.hist(data,color='cornflowerblue',bins=bin_no)\n",
    "    plt.show()"
   ]
  },
  {
   "cell_type": "code",
   "execution_count": null,
   "id": "15d4f31f-197b-4960-9afb-b3400bcc2352",
   "metadata": {},
   "outputs": [],
   "source": [
    "def plot_class_counts(data, plot_title=\"Title\"):\n",
    "    \"\"\"\n",
    "    Plots a countplot with a legend. Used for class count visualization.\n",
    "    :data: pd.Series\n",
    "    :plot_title: string - Defines plot title\n",
    "    \"\"\"\n",
    "    # Packs each class and its count\n",
    "    unique_classes, class_counts = np.unique(data.values, return_counts=True)\n",
    "\n",
    "    # Picks the colormap for the classes\n",
    "    my_cmap = plt.get_cmap(\"rainbow\")\n",
    "    rescale = lambda y: (y - np.min(y)) / (np.max(y) - np.min(y))\n",
    "\n",
    "    fig, ax = plt.subplots()\n",
    "    ax.bar(unique_classes, class_counts, label=unique_classes, color=my_cmap(rescale(class_counts)))\n",
    "    ax.set_ylabel('count')\n",
    "    ax.set_title(plot_title)\n",
    "    ax.legend(title=\"Legend\")\n",
    "    \n",
    "    plt.show()"
   ]
  },
  {
   "cell_type": "code",
   "execution_count": null,
   "id": "2b97eac2-7475-49dd-b4d2-b994211425c0",
   "metadata": {},
   "outputs": [],
   "source": [
    "def plot_heatmap(dataframe,size=0,show_values=False):\n",
    "    \"\"\"\n",
    "    Plots a heatmap for the given dataframe.\n",
    "    :dataframe: pandas.Dataframe\n",
    "    :size: int - Defines plot size\n",
    "    :show_values: bool - Shows values for each correlation\n",
    "    \"\"\"\n",
    "\n",
    "    # Optionally resize the image\n",
    "    if size:\n",
    "        plt.figure(figsize=(size,size))\n",
    "\n",
    "    # Builds the correlation heatmap\n",
    "    data = dataframe.corr(numeric_only=True)\n",
    "    plt.title('Correlation Heatmap')\n",
    "    heatmap=plt.imshow(data, cmap='hot', interpolation='nearest', aspect='auto')\n",
    "\n",
    "    # Adds a legend sidebar\n",
    "    plt.colorbar(heatmap, label='Correlation')\n",
    "\n",
    "    # Adds the labels\n",
    "    plt.xticks(ticks=np.arange(len(data.columns)), labels=data.columns, rotation=45, ha='right')\n",
    "    plt.yticks(ticks=np.arange(len(data.columns)), labels=data.columns)\n",
    "\n",
    "    # Add numbers to each square\n",
    "    for i in range(len(data.columns)):\n",
    "        for j in range(len(data.columns)):\n",
    "            c='white'\n",
    "            if data.iloc[i, j] > 0.0:\n",
    "                c='black'\n",
    "            plt.text(j, i, f'{data.iloc[i, j]:.2f}', ha='center', va='center', color=c, size=7+size*0.5)\n",
    "\n",
    "    plt.tight_layout()\n",
    "    \n",
    "    plt.show()"
   ]
  },
  {
   "cell_type": "code",
   "execution_count": null,
   "id": "a1caf833-354e-4cec-bc5a-3c7d9c4a4a88",
   "metadata": {},
   "outputs": [],
   "source": [
    "def plot_corr(dataframe,y,drop_val=[]):\n",
    "    \"\"\"\n",
    "    Plots the correlation of every other attribute with y.\n",
    "    :dataframe: pandas.Dataframe\n",
    "    :y: string - Defines target attribute to compare with others\n",
    "    :drop_val: array of strings - other values to drop\n",
    "    \"\"\"\n",
    "    all_drop_values = [y]\n",
    "    for x in drop_val:\n",
    "        all_drop_values.append(x)\n",
    "    correlation = dataframe.corr(numeric_only=True)[y].drop(all_drop_values).sort_values()\n",
    "    correlation.plot(kind='bar')\n",
    "    plt.xticks(rotation=45, ha='right')\n",
    "    plt.grid(axis = 'y')"
   ]
  },
  {
   "cell_type": "code",
   "execution_count": null,
   "id": "365f2f4c-9ab9-4fee-9cee-196012d1e3e4",
   "metadata": {},
   "outputs": [],
   "source": [
    "def plot_scatter(x,y,alpha=1):\n",
    "    \"\"\"\n",
    "    Plots a scatterplot\n",
    "    :dataframe: pandas.Dataframe\n",
    "    :x,y: float or array-like\n",
    "    :alpha: float - Marker transparency\n",
    "    \"\"\"\n",
    "    fig, ax = plt.subplots()\n",
    "    plt.scatter(x,y,edgecolors='white',alpha=alpha)\n",
    "    ax.set_xlabel(x.name)\n",
    "    ax.set_ylabel(y.name)\n",
    "    plt.show()"
   ]
  },
  {
   "cell_type": "code",
   "execution_count": null,
   "id": "584be185-dc52-456c-8121-00257e90939a",
   "metadata": {},
   "outputs": [],
   "source": []
  },
  {
   "cell_type": "markdown",
   "id": "9ffc642d-3250-4fe0-8383-44b2c59bce48",
   "metadata": {},
   "source": [
    "### Seaborn plotting functions\n",
    "\n",
    "I usually enjoy defining plots from scratch, but Seaborn plots are easy to implement and pretty useful."
   ]
  },
  {
   "cell_type": "code",
   "execution_count": null,
   "id": "c80c3391-c1ec-411f-a0e2-c4d96386b5eb",
   "metadata": {},
   "outputs": [],
   "source": [
    "sns.histplot()\n",
    "sns.countplot() # Can reorder the bars\n",
    "sns.boxplot()"
   ]
  },
  {
   "cell_type": "code",
   "execution_count": null,
   "id": "d54ea598-02f6-4d1a-84da-d40f3470c92e",
   "metadata": {},
   "outputs": [],
   "source": []
  },
  {
   "cell_type": "markdown",
   "id": "ea01c228-0688-439f-a1cd-cf5e05caac32",
   "metadata": {},
   "source": [
    "### Data Transformation Functions"
   ]
  },
  {
   "cell_type": "code",
   "execution_count": 1,
   "id": "55418d57-a8a7-4ecf-b097-30dbfd45c7e1",
   "metadata": {},
   "outputs": [],
   "source": [
    "def str_map(dataframe,y):\n",
    "    \"\"\"\n",
    "    Maps every string to an integer in given dataframe column.\n",
    "    :dataframe: pandas.Dataframe\n",
    "    :y: string - the column name\n",
    "    :return: the new dataframe and its mapping\n",
    "    \"\"\"\n",
    "    new_df = dataframe\n",
    "    mapping = {value: i for i, value in enumerate(dataframe[y].unique())}\n",
    "\n",
    "    # Applying the map to convert strings to integers\n",
    "    new_df[y] = new_df[y].map(mapping)\n",
    "\n",
    "    return new_df,mapping"
   ]
  },
  {
   "cell_type": "code",
   "execution_count": null,
   "id": "41afd738-86da-493a-9f21-b0cab4aaa6ac",
   "metadata": {},
   "outputs": [],
   "source": [
    "def str_to_cat(dataframe,y):\n",
    "    \"\"\"\n",
    "    Transforms y string attributes into categorical columns \n",
    "    (EX: if y has 3 possible values, creates 3 new columns for each\n",
    "    with value 1 if given instance has that attribute)\n",
    "    :dataframe: pandas.Dataframe\n",
    "    :y: string or array of strings - which columns will be replaced\n",
    "    :return: the dataframe transformed\n",
    "    \"\"\"\n",
    "    dummies = pd.get_dummies(df[y], dtype='int32',drop_first=True)\n",
    "    merged = pd.concat([df,dummies],axis='columns')\n",
    "    merged.drop(y,axis='columns',inplace=True)\n",
    "    \n",
    "    return merged"
   ]
  }
 ],
 "metadata": {
  "kernelspec": {
   "display_name": "Python 3 (ipykernel)",
   "language": "python",
   "name": "python3"
  },
  "language_info": {
   "codemirror_mode": {
    "name": "ipython",
    "version": 3
   },
   "file_extension": ".py",
   "mimetype": "text/x-python",
   "name": "python",
   "nbconvert_exporter": "python",
   "pygments_lexer": "ipython3",
   "version": "3.11.7"
  }
 },
 "nbformat": 4,
 "nbformat_minor": 5
}
